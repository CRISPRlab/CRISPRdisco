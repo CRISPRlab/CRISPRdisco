{
 "cells": [
  {
   "cell_type": "markdown",
   "metadata": {},
   "source": [
    "# crisprdisco version"
   ]
  },
  {
   "cell_type": "code",
   "execution_count": 1,
   "metadata": {
    "collapsed": false
   },
   "outputs": [
    {
     "name": "stdout",
     "output_type": "stream",
     "text": [
      "0.1\n"
     ]
    }
   ],
   "source": [
    "import crisprdisco\n",
    "print crisprdisco.__version__"
   ]
  },
  {
   "cell_type": "code",
   "execution_count": 2,
   "metadata": {
    "collapsed": false
   },
   "outputs": [
    {
     "name": "stdout",
     "output_type": "stream",
     "text": [
      "\n",
      "CRISPRdisco, version 0.1\n",
      "(C) AgBiome, Inc., All rights reserved\n",
      "Alexandra Crawley, 2017\n",
      "\n",
      "Identify CRISPR-Cas systems in bacteria and archaeal genomes.\n",
      "\n",
      "This is free software and comes with ABSOLUTELY NO WARRANTY. You are welcome \n",
      "to redistribute it under certain conditions; for details see LISENCE.txt\n",
      "\n",
      "0.1\n"
     ]
    }
   ],
   "source": [
    "from crisprdisco.cli import script\n",
    "print script.description\n",
    "print script.__version__"
   ]
  },
  {
   "cell_type": "markdown",
   "metadata": {
    "collapsed": true
   },
   "source": [
    "# some utilities avaliable"
   ]
  },
  {
   "cell_type": "code",
   "execution_count": 3,
   "metadata": {
    "collapsed": false
   },
   "outputs": [
    {
     "name": "stdout",
     "output_type": "stream",
     "text": [
      "USAGE\r\n",
      "  blastp [-h] [-help] [-import_search_strategy filename]\r\n",
      "    [-export_search_strategy filename] [-task task_name] [-db database_name]\r\n",
      "    [-dbsize num_letters] [-gilist filename] [-seqidlist filename]\r\n",
      "    [-negative_gilist filename] [-entrez_query entrez_query]\r\n",
      "    [-db_soft_mask filtering_algorithm] [-db_hard_mask filtering_algorithm]\r\n",
      "    [-subject subject_input_file] [-subject_loc range] [-query input_file]\r\n",
      "    [-out output_file] [-evalue evalue] [-word_size int_value]\r\n",
      "    [-gapopen open_penalty] [-gapextend extend_penalty]\r\n",
      "    [-qcov_hsp_perc float_value] [-max_hsps int_value]\r\n",
      "    [-xdrop_ungap float_value] [-xdrop_gap float_value]\r\n",
      "    [-xdrop_gap_final float_value] [-searchsp int_value]\r\n",
      "    [-sum_stats bool_value] [-seg SEG_options] [-soft_masking soft_masking]\r\n",
      "    [-matrix matrix_name] [-threshold float_value] [-culling_limit int_value]\r\n",
      "    [-best_hit_overhang float_value] [-best_hit_score_edge float_value]\r\n",
      "    [-window_size int_value] [-lcase_masking] [-query_loc range]\r\n",
      "    [-parse_deflines] [-outfmt format] [-show_gis]\r\n",
      "    [-num_descriptions int_value] [-num_alignments int_value]\r\n",
      "    [-line_length line_length] [-html] [-max_target_seqs num_sequences]\r\n",
      "    [-num_threads int_value] [-ungapped] [-remote] [-comp_based_stats compo]\r\n",
      "    [-use_sw_tback] [-version]\r\n",
      "\r\n",
      "DESCRIPTION\r\n",
      "   Protein-Protein BLAST 2.6.0+\r\n",
      "\r\n",
      "Use '-help' to print detailed descriptions of command line arguments\r\n"
     ]
    }
   ],
   "source": [
    "!blastp -h"
   ]
  },
  {
   "cell_type": "code",
   "execution_count": 4,
   "metadata": {
    "collapsed": false
   },
   "outputs": [
    {
     "name": "stdout",
     "output_type": "stream",
     "text": [
      "# hmmscan :: search sequence(s) against a profile database\r\n",
      "# HMMER 3.1b2 (February 2015); http://hmmer.org/\r\n",
      "# Copyright (C) 2015 Howard Hughes Medical Institute.\r\n",
      "# Freely distributed under the GNU General Public License (GPLv3).\r\n",
      "# - - - - - - - - - - - - - - - - - - - - - - - - - - - - - - - - - - - -\r\n",
      "Usage: hmmscan [-options] <hmmdb> <seqfile>\r\n",
      "\r\n",
      "Basic options:\r\n",
      "  -h : show brief help on version and usage\r\n",
      "\r\n",
      "Options controlling output:\r\n",
      "  -o <f>           : direct output to file <f>, not stdout\r\n",
      "  --tblout <f>     : save parseable table of per-sequence hits to file <f>\r\n",
      "  --domtblout <f>  : save parseable table of per-domain hits to file <f>\r\n",
      "  --pfamtblout <f> : save table of hits and domains to file, in Pfam format <f>\r\n",
      "  --acc            : prefer accessions over names in output\r\n",
      "  --noali          : don't output alignments, so output is smaller\r\n",
      "  --notextw        : unlimit ASCII text output line width\r\n",
      "  --textw <n>      : set max width of ASCII text output lines  [120]  (n>=120)\r\n",
      "\r\n",
      "Options controlling reporting thresholds:\r\n",
      "  -E <x>     : report models <= this E-value threshold in output  [10.0]  (x>0)\r\n",
      "  -T <x>     : report models >= this score threshold in output\r\n",
      "  --domE <x> : report domains <= this E-value threshold in output  [10.0]  (x>0)\r\n",
      "  --domT <x> : report domains >= this score cutoff in output\r\n",
      "\r\n",
      "Options controlling inclusion (significance) thresholds:\r\n",
      "  --incE <x>    : consider models <= this E-value threshold as significant\r\n",
      "  --incT <x>    : consider models >= this score threshold as significant\r\n",
      "  --incdomE <x> : consider domains <= this E-value threshold as significant\r\n",
      "  --incdomT <x> : consider domains >= this score threshold as significant\r\n",
      "\r\n",
      "Options for model-specific thresholding:\r\n",
      "  --cut_ga : use profile's GA gathering cutoffs to set all thresholding\r\n",
      "  --cut_nc : use profile's NC noise cutoffs to set all thresholding\r\n",
      "  --cut_tc : use profile's TC trusted cutoffs to set all thresholding\r\n",
      "\r\n",
      "Options controlling acceleration heuristics:\r\n",
      "  --max    : Turn all heuristic filters off (less speed, more power)\r\n",
      "  --F1 <x> : MSV threshold: promote hits w/ P <= F1  [0.02]\r\n",
      "  --F2 <x> : Vit threshold: promote hits w/ P <= F2  [1e-3]\r\n",
      "  --F3 <x> : Fwd threshold: promote hits w/ P <= F3  [1e-5]\r\n",
      "  --nobias : turn off composition bias filter\r\n",
      "\r\n",
      "Other expert options:\r\n",
      "  --nonull2     : turn off biased composition score corrections\r\n",
      "  -Z <x>        : set # of comparisons done, for E-value calculation\r\n",
      "  --domZ <x>    : set # of significant seqs, for domain E-value calculation\r\n",
      "  --seed <n>    : set RNG seed to <n> (if 0: one-time arbitrary seed)  [42]\r\n",
      "  --qformat <s> : assert input <seqfile> is in format <s>: no autodetection\r\n",
      "  --daemon      : run program as a daemon\r\n",
      "  --cpu <n>     : number of parallel CPU workers to use for multithreads\r\n"
     ]
    }
   ],
   "source": [
    "!hmmscan -h"
   ]
  },
  {
   "cell_type": "code",
   "execution_count": 5,
   "metadata": {
    "collapsed": false
   },
   "outputs": [
    {
     "name": "stdout",
     "output_type": "stream",
     "text": [
      "MinCED, a program to find CRISPRs in shotgun DNA sequences or full genomes\n",
      "\n",
      "Usage:    minced [options] file.fa [outputFile]\n",
      "\n",
      "Options:  -searchWL  Length of search window used to discover CRISPRs (range: 6-9). Default: 8\n",
      "          -minNR     Minimum number of repeats a CRISPR must contain. Default: 3\n",
      "          -minRL     Minimum length of the CRISPR repeats. Default: 23\n",
      "          -maxRL     Maximum length of the CRISPR repeats. Default: 47\n",
      "          -minSL     Minimum length of the CRISPR spacers. Default: 26\n",
      "          -maxSL     Maximum length of the CRISPR spacers. Default: 50\n",
      "          -gff       Output summary results in gff format containing\n",
      "                     only the positions of the CRISPR arrays. Default: false\n",
      "          -gffFull   Output detailed results in gff format containing\n",
      "                     positions of CRISPR arrays and all repeat units. Default: false\n",
      "          -spacers   Output a fasta formatted file containing the spacers. Default: false\n",
      "          -h --help  Output this handy help message\n",
      "          --version  Output version information\n",
      "\n",
      "Examples: minced ecoli.fna\n",
      "          minced -minNR 2 metagenome.fna\n",
      "          minced -minNR 2 metagenome.fna metagenome.crisprs\n",
      "\n",
      "minced 0.2.0\n",
      "MinCED - Mining CRISPRs in Environmental Datasets (version 0.2.0)\n",
      "Copyright 2011      Florent Angly     <florent.angly@gmail.com>\n",
      "          2013-2015 Connor Skennerton <c.skennerton@gmail.com>\n",
      "\n",
      "Minced is a modified version of CRT (www.room220.com/crt)\n",
      "Charles Bland et al., CRISPR Recognition Tool (CRT): a tool for automatic\n",
      "detection of clustered regularly interspaced palindromic repeats\n",
      "BMC Bioinformatics 8, no. 1 (2007): 209.\n",
      "Distributed under the GNU General Public License version 3\n"
     ]
    }
   ],
   "source": [
    "!minced -h\n",
    "!minced --version"
   ]
  },
  {
   "cell_type": "code",
   "execution_count": 6,
   "metadata": {
    "collapsed": false
   },
   "outputs": [
    {
     "name": "stdout",
     "output_type": "stream",
     "text": [
      "Package: build-essential\r\n",
      "Version: 11.7\r\n",
      "Installed-Size: 37\r\n",
      "Maintainer: Matthias Klose <doko@debian.org>\r\n",
      "Architecture: amd64\r\n",
      "Depends: libc6-dev | libc-dev, gcc (>= 4:4.9.1), g++ (>= 4:4.9.1), make, dpkg-dev (>= 1.17.11)\r\n",
      "Description: Informational list of build-essential packages\r\n",
      "Description-md5: 90ef0ef86cafda0bd16f746eb621d9da\r\n",
      "Build-Essential: yes\r\n",
      "Tag: devel::packaging, interface::commandline, role::data, suite::debian\r\n",
      "Section: devel\r\n",
      "Priority: optional\r\n",
      "Filename: pool/main/b/build-essential/build-essential_11.7_amd64.deb\r\n",
      "Size: 7114\r\n",
      "MD5sum: b2581daaf5fbf7ae4abbcb552d7d49ed\r\n",
      "SHA1: c7e48e156740246a780f73d92763f95adfacf9fb\r\n",
      "SHA256: 142e4665f3e104b531d5f3384ef007ff1e4b65382c6e6008cd34fa56cbcd9ae2\r\n",
      "\r\n"
     ]
    }
   ],
   "source": [
    "!apt-cache show build-essential"
   ]
  },
  {
   "cell_type": "markdown",
   "metadata": {},
   "source": [
    "# python environment"
   ]
  },
  {
   "cell_type": "code",
   "execution_count": 7,
   "metadata": {
    "collapsed": false,
    "deletable": true,
    "editable": true
   },
   "outputs": [
    {
     "data": {
      "text/plain": [
       "sys.version_info(major=2, minor=7, micro=13, releaselevel='final', serial=0)"
      ]
     },
     "execution_count": 7,
     "metadata": {},
     "output_type": "execute_result"
    }
   ],
   "source": [
    "#python 2.7\n",
    "import sys\n",
    "sys.version_info"
   ]
  },
  {
   "cell_type": "code",
   "execution_count": 8,
   "metadata": {
    "collapsed": false
   },
   "outputs": [
    {
     "name": "stdout",
     "output_type": "stream",
     "text": [
      "conda 4.2.12\r\n"
     ]
    }
   ],
   "source": [
    "!conda --version"
   ]
  },
  {
   "cell_type": "code",
   "execution_count": 9,
   "metadata": {
    "collapsed": false
   },
   "outputs": [
    {
     "name": "stdout",
     "output_type": "stream",
     "text": [
      "# This file may be used to create an environment using:\n",
      "# $ conda create --name <env> --file <this file>\n",
      "# platform: linux-64\n",
      "@EXPLICIT\n",
      "https://conda.anaconda.org/conda-forge/linux-64/backports.shutil_get_terminal_size-1.0.0-py27_1.tar.bz2\n",
      "https://conda.anaconda.org/conda-forge/linux-64/backports_abc-0.5-py27_0.tar.bz2\n",
      "https://repo.continuum.io/pkgs/free/linux-64/beautifulsoup4-4.5.3-py27_0.tar.bz2\n",
      "https://conda.anaconda.org/conda-forge/linux-64/blas-1.1-openblas.tar.bz2\n",
      "https://conda.anaconda.org/bioconda/linux-64/blast-2.6.0-boost1.64_2.tar.bz2\n",
      "https://repo.continuum.io/pkgs/free/linux-64/bokeh-0.11.1-py27_0.tar.bz2\n",
      "https://conda.anaconda.org/conda-forge/linux-64/boost-1.64.0-py27_4.tar.bz2\n",
      "https://conda.anaconda.org/conda-forge/linux-64/boost-cpp-1.64.0-1.tar.bz2\n",
      "https://repo.continuum.io/pkgs/free/linux-64/bzip2-1.0.6-3.tar.bz2\n",
      "https://conda.anaconda.org/conda-forge/linux-64/ca-certificates-2016.9.26-0.tar.bz2\n",
      "https://conda.anaconda.org/conda-forge/linux-64/cairo-1.14.6-0.tar.bz2\n",
      "https://conda.anaconda.org/conda-forge/linux-64/certifi-2016.9.26-py27_0.tar.bz2\n",
      "https://repo.continuum.io/pkgs/free/linux-64/cloudpickle-0.1.1-py27_0.tar.bz2\n",
      "https://conda.anaconda.org/conda-forge/linux-64/configparser-3.5.0-py27_0.tar.bz2\n",
      "https://conda.anaconda.org/conda-forge/linux-64/cycler-0.10.0-py27_0.tar.bz2\n",
      "https://repo.continuum.io/pkgs/free/linux-64/cython-0.23.5-py27_0.tar.bz2\n",
      "https://conda.anaconda.org/conda-forge/linux-64/decorator-4.0.10-py27_0.tar.bz2\n",
      "https://conda.anaconda.org/conda-forge/linux-64/dill-0.2.5-py27_1.tar.bz2\n",
      "https://conda.anaconda.org/conda-forge/linux-64/entrypoints-0.2.2-py27_0.tar.bz2\n",
      "https://conda.anaconda.org/conda-forge/linux-64/enum34-1.1.6-py27_1.tar.bz2\n",
      "https://repo.continuum.io/pkgs/free/linux-64/fastcache-1.0.2-py27_1.tar.bz2\n",
      "https://conda.anaconda.org/conda-forge/linux-64/fontconfig-2.11.1-6.tar.bz2\n",
      "https://conda.anaconda.org/conda-forge/linux-64/freetype-2.6.3-1.tar.bz2\n",
      "https://conda.anaconda.org/conda-forge/linux-64/funcsigs-1.0.2-py27_0.tar.bz2\n",
      "https://conda.anaconda.org/conda-forge/linux-64/functools32-3.2.3.2-py27_1.tar.bz2\n",
      "https://conda.anaconda.org/conda-forge/linux-64/futures-3.0.5-py27_0.tar.bz2\n",
      "https://conda.anaconda.org/conda-forge/linux-64/gettext-0.19.7-1.tar.bz2\n",
      "https://conda.anaconda.org/conda-forge/linux-64/glib-2.51.0-2.tar.bz2\n",
      "https://conda.anaconda.org/conda-forge/linux-64/h5py-2.6.0-np110py27_7.tar.bz2\n",
      "https://conda.anaconda.org/conda-forge/linux-64/harfbuzz-1.3.4-0.tar.bz2\n",
      "https://conda.anaconda.org/conda-forge/linux-64/hdf5-1.8.17-9.tar.bz2\n",
      "https://conda.anaconda.org/bioconda/linux-64/hmmer-3.1b2-3.tar.bz2\n",
      "https://conda.anaconda.org/conda-forge/linux-64/icu-58.2-0.tar.bz2\n",
      "https://conda.anaconda.org/conda-forge/linux-64/ipykernel-4.5.2-py27_0.tar.bz2\n",
      "https://conda.anaconda.org/conda-forge/linux-64/ipython-4.2.1-py27_1.tar.bz2\n",
      "https://conda.anaconda.org/conda-forge/linux-64/ipython_genutils-0.1.0-py27_0.tar.bz2\n",
      "https://conda.anaconda.org/conda-forge/linux-64/ipywidgets-5.2.2-py27_2.tar.bz2\n",
      "https://conda.anaconda.org/conda-forge/linux-64/jinja2-2.8-py27_1.tar.bz2\n",
      "https://conda.anaconda.org/conda-forge/linux-64/jpeg-9b-0.tar.bz2\n",
      "https://conda.anaconda.org/conda-forge/linux-64/jsonschema-2.5.1-py27_0.tar.bz2\n",
      "https://conda.anaconda.org/conda-forge/linux-64/jupyter_client-4.4.0-py27_0.tar.bz2\n",
      "https://conda.anaconda.org/conda-forge/linux-64/jupyter_core-4.2.1-py27_0.tar.bz2\n",
      "https://conda.anaconda.org/conda-forge/linux-64/libffi-3.2.1-3.tar.bz2\n",
      "https://repo.continuum.io/pkgs/free/linux-64/libgcc-5.2.0-0.tar.bz2\n",
      "https://repo.continuum.io/pkgs/free/linux-64/libgfortran-3.0.0-1.tar.bz2\n",
      "https://conda.anaconda.org/conda-forge/linux-64/libiconv-1.14-4.tar.bz2\n",
      "https://conda.anaconda.org/conda-forge/linux-64/libpng-1.6.28-0.tar.bz2\n",
      "https://conda.anaconda.org/conda-forge/linux-64/libsodium-1.0.10-0.tar.bz2\n",
      "https://conda.anaconda.org/conda-forge/linux-64/libtiff-4.0.6-7.tar.bz2\n",
      "https://conda.anaconda.org/conda-forge/linux-64/libxml2-2.9.4-3.tar.bz2\n",
      "https://repo.continuum.io/pkgs/free/linux-64/llvmlite-0.8.0-py27_0.tar.bz2\n",
      "https://conda.anaconda.org/conda-forge/linux-64/markupsafe-0.23-py27_1.tar.bz2\n",
      "https://conda.anaconda.org/conda-forge/linux-64/matplotlib-1.5.3-np110py27_5.tar.bz2\n",
      "https://conda.anaconda.org/bioconda/linux-64/minced-0.2.0-1.tar.bz2\n",
      "https://conda.anaconda.org/conda-forge/linux-64/mistune-0.7.3-py27_0.tar.bz2\n",
      "https://conda.anaconda.org/conda-forge/linux-64/mpmath-0.19-py27_2.tar.bz2\n",
      "https://conda.anaconda.org/conda-forge/linux-64/nbconvert-4.2.0-py27_0.tar.bz2\n",
      "https://conda.anaconda.org/conda-forge/linux-64/nbformat-4.2.0-py27_0.tar.bz2\n",
      "https://conda.anaconda.org/conda-forge/linux-64/ncurses-5.9-10.tar.bz2\n",
      "https://conda.anaconda.org/conda-forge/linux-64/networkx-1.11-py27_0.tar.bz2\n",
      "https://repo.continuum.io/pkgs/free/linux-64/nomkl-1.0-0.tar.bz2\n",
      "https://conda.anaconda.org/conda-forge/linux-64/notebook-4.3.1-py27_0.tar.bz2\n",
      "https://repo.continuum.io/pkgs/free/linux-64/numba-0.23.1-np110py27_0.tar.bz2\n",
      "https://conda.anaconda.org/conda-forge/linux-64/numexpr-2.6.1-np110py27_1.tar.bz2\n",
      "https://conda.anaconda.org/conda-forge/linux-64/numpy-1.10.4-py27_blas_openblas_204.tar.bz2\n",
      "https://conda.anaconda.org/conda-forge/linux-64/openblas-0.2.18-6.tar.bz2\n",
      "https://repo.continuum.io/pkgs/free/linux-64/openjdk-8.0.121-1.tar.bz2\n",
      "https://conda.anaconda.org/conda-forge/linux-64/openssl-1.0.2h-3.tar.bz2\n",
      "https://conda.anaconda.org/conda-forge/linux-64/pandas-0.19.2-np110py27_1.tar.bz2\n",
      "https://conda.anaconda.org/conda-forge/linux-64/pango-1.40.3-0.tar.bz2\n",
      "https://conda.anaconda.org/conda-forge/linux-64/pathlib2-2.1.0-py27_0.tar.bz2\n",
      "https://conda.anaconda.org/conda-forge/linux-64/patsy-0.4.1-py27_0.tar.bz2\n",
      "https://conda.anaconda.org/conda-forge/linux-64/pcre-8.39-0.tar.bz2\n",
      "https://conda.anaconda.org/conda-forge/linux-64/pexpect-4.2.1-py27_0.tar.bz2\n",
      "https://conda.anaconda.org/conda-forge/linux-64/pickleshare-0.7.3-py27_0.tar.bz2\n",
      "https://conda.anaconda.org/conda-forge/linux-64/pillow-4.0.0-py27_0.tar.bz2\n",
      "https://conda.anaconda.org/conda-forge/linux-64/pip-9.0.1-py27_0.tar.bz2\n",
      "https://conda.anaconda.org/conda-forge/linux-64/pixman-0.34.0-0.tar.bz2\n",
      "https://conda.anaconda.org/conda-forge/linux-64/ptyprocess-0.5.1-py27_0.tar.bz2\n",
      "https://conda.anaconda.org/conda-forge/linux-64/pygments-2.1.3-py27_1.tar.bz2\n",
      "https://conda.anaconda.org/conda-forge/linux-64/pyparsing-2.1.10-py27_0.tar.bz2\n",
      "https://repo.continuum.io/pkgs/free/linux-64/python-2.7.13-0.tar.bz2\n",
      "https://conda.anaconda.org/conda-forge/linux-64/python-dateutil-2.6.0-py27_0.tar.bz2\n",
      "https://conda.anaconda.org/conda-forge/linux-64/pytz-2016.10-py27_0.tar.bz2\n",
      "https://conda.anaconda.org/conda-forge/linux-64/pyyaml-3.11-py27_0.tar.bz2\n",
      "https://conda.anaconda.org/conda-forge/linux-64/pyzmq-16.0.2-py27_0.tar.bz2\n",
      "https://conda.anaconda.org/conda-forge/linux-64/readline-6.2-0.tar.bz2\n",
      "https://conda.anaconda.org/conda-forge/linux-64/requests-2.12.4-py27_0.tar.bz2\n",
      "https://repo.continuum.io/pkgs/free/linux-64/scikit-image-0.11.3-np110py27_0.tar.bz2\n",
      "https://conda.anaconda.org/conda-forge/linux-64/scikit-learn-0.17.1-np110py27_blas_openblas_202.tar.bz2\n",
      "https://conda.anaconda.org/conda-forge/linux-64/scipy-0.17.1-np110py27_blas_openblas_204.tar.bz2\n",
      "https://conda.anaconda.org/conda-forge/linux-64/seaborn-0.7.1-py27_0.tar.bz2\n",
      "https://conda.anaconda.org/conda-forge/linux-64/setuptools-32.3.1-py27_0.tar.bz2\n",
      "https://conda.anaconda.org/conda-forge/linux-64/simplegeneric-0.8.1-py27_0.tar.bz2\n",
      "https://conda.anaconda.org/conda-forge/linux-64/singledispatch-3.4.0.3-py27_0.tar.bz2\n",
      "https://conda.anaconda.org/conda-forge/linux-64/sip-4.18-py27_1.tar.bz2\n",
      "https://conda.anaconda.org/conda-forge/linux-64/six-1.10.0-py27_1.tar.bz2\n",
      "https://repo.continuum.io/pkgs/free/linux-64/sqlalchemy-1.0.13-py27_0.tar.bz2\n",
      "https://conda.anaconda.org/conda-forge/linux-64/sqlite-3.13.0-1.tar.bz2\n",
      "https://conda.anaconda.org/conda-forge/linux-64/ssl_match_hostname-3.5.0.1-py27_0.tar.bz2\n",
      "https://conda.anaconda.org/conda-forge/linux-64/statsmodels-0.6.1-np110py27_0.tar.bz2\n",
      "https://conda.anaconda.org/conda-forge/linux-64/sympy-1.0-py27_0.tar.bz2\n",
      "https://conda.anaconda.org/conda-forge/linux-64/terminado-0.6-py27_0.tar.bz2\n",
      "https://repo.continuum.io/pkgs/free/linux-64/tk-8.5.18-0.tar.bz2\n",
      "https://conda.anaconda.org/conda-forge/linux-64/tornado-4.4.2-py27_0.tar.bz2\n",
      "https://conda.anaconda.org/conda-forge/linux-64/traitlets-4.3.1-py27_0.tar.bz2\n",
      "https://conda.anaconda.org/conda-forge/linux-64/vincent-0.4.4-py27_0.tar.bz2\n",
      "https://conda.anaconda.org/conda-forge/linux-64/wheel-0.29.0-py27_0.tar.bz2\n",
      "https://conda.anaconda.org/conda-forge/linux-64/widgetsnbextension-1.2.6-py27_3.tar.bz2\n",
      "https://repo.continuum.io/pkgs/free/linux-64/xlrd-1.0.0-py27_0.tar.bz2\n",
      "https://conda.anaconda.org/conda-forge/linux-64/xz-5.2.2-0.tar.bz2\n",
      "https://conda.anaconda.org/conda-forge/linux-64/yaml-0.1.6-0.tar.bz2\n",
      "https://conda.anaconda.org/conda-forge/linux-64/zeromq-4.1.5-0.tar.bz2\n",
      "https://conda.anaconda.org/conda-forge/linux-64/zlib-1.2.8-3.tar.bz2\n"
     ]
    }
   ],
   "source": [
    "!conda list --explicit"
   ]
  },
  {
   "cell_type": "code",
   "execution_count": 10,
   "metadata": {
    "collapsed": false
   },
   "outputs": [
    {
     "name": "stdout",
     "output_type": "stream",
     "text": [
      "Name: pandas\n",
      "Version: 0.22.0\n",
      "Summary: Powerful data structures for data analysis, time series,and statistics\n",
      "Home-page: http://pandas.pydata.org\n",
      "Author: The PyData Development Team\n",
      "Author-email: pydata@googlegroups.com\n",
      "License: BSD\n",
      "Location: /opt/conda/envs/python2/lib/python2.7/site-packages\n",
      "Requires: pytz, python-dateutil, numpy\n",
      "---\n",
      "Name: numpy\n",
      "Version: 1.14.0\n",
      "Summary: NumPy: array processing for numbers, strings, records, and objects.\n",
      "Home-page: http://www.numpy.org\n",
      "Author: NumPy Developers\n",
      "Author-email: numpy-discussion@python.org\n",
      "License: BSD\n",
      "Location: /opt/conda/envs/python2/lib/python2.7/site-packages\n",
      "Requires: \n",
      "---\n",
      "Name: matplotlib\n",
      "Version: 1.5.3\n",
      "Summary: Python plotting package\n",
      "Home-page: http://matplotlib.org\n",
      "Author: John D. Hunter, Michael Droettboom\n",
      "Author-email: matplotlib-users@python.org\n",
      "License: BSD\n",
      "Location: /opt/conda/envs/python2/lib/python2.7/site-packages\n",
      "Requires: numpy, python-dateutil, pytz, cycler, pyparsing\n",
      "---\n",
      "Name: seaborn\n",
      "Version: 0.7.1\n",
      "Summary: Seaborn: statistical data visualization\n",
      "Home-page: http://stanford.edu/~mwaskom/software/seaborn/\n",
      "Author: Michael Waskom\n",
      "Author-email: mwaskom@stanford.edu\n",
      "License: BSD (3-clause)\n",
      "Location: /opt/conda/envs/python2/lib/python2.7/site-packages\n",
      "Requires: numpy, scipy, matplotlib, pandas\n",
      "---\n",
      "Name: biopython\n",
      "Version: 1.70\n",
      "Summary: Freely available tools for computational molecular biology.\n",
      "Home-page: http://www.biopython.org/\n",
      "Author: The Biopython Contributors\n",
      "Author-email: biopython@biopython.org\n",
      "License: UNKNOWN\n",
      "Location: /opt/conda/envs/python2/lib/python2.7/site-packages\n",
      "Requires: numpy\n",
      "---\n",
      "Name: click\n",
      "Version: 6.7\n",
      "Summary: A simple wrapper around optparse for powerful command line utilities.\n",
      "Home-page: http://github.com/mitsuhiko/click\n",
      "Author: Armin Ronacher\n",
      "Author-email: armin.ronacher@active-4.com\n",
      "License: UNKNOWN\n",
      "Location: /opt/conda/envs/python2/lib/python2.7/site-packages\n",
      "Requires: \n"
     ]
    }
   ],
   "source": [
    "!pip show pandas numpy matplotlib seaborn biopython click"
   ]
  },
  {
   "cell_type": "code",
   "execution_count": 11,
   "metadata": {
    "collapsed": false
   },
   "outputs": [
    {
     "name": "stdout",
     "output_type": "stream",
     "text": [
      "4.2.1\r\n"
     ]
    }
   ],
   "source": [
    "!jupyter --version"
   ]
  }
 ],
 "metadata": {
  "kernelspec": {
   "display_name": "Python 2",
   "language": "python",
   "name": "python2"
  },
  "language_info": {
   "codemirror_mode": {
    "name": "ipython",
    "version": 2
   },
   "file_extension": ".py",
   "mimetype": "text/x-python",
   "name": "python",
   "nbconvert_exporter": "python",
   "pygments_lexer": "ipython2",
   "version": "2.7.13"
  }
 },
 "nbformat": 4,
 "nbformat_minor": 2
}
